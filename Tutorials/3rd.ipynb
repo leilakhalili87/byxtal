{
 "cells": [
  {
   "cell_type": "markdown",
   "metadata": {},
   "source": [
    "# 3.How to find the CSL/DSC lattices of a Σ-rotation using GBpy!\n",
    "-----------------------------------------------------------------------------------------"
   ]
  },
  {
   "cell_type": "code",
   "execution_count": 1,
   "metadata": {},
   "outputs": [
    {
     "ename": "ModuleNotFoundError",
     "evalue": "No module named 'byxtal'",
     "output_type": "error",
     "traceback": [
      "\u001b[0;31m---------------------------------------------------------------------------\u001b[0m",
      "\u001b[0;31mModuleNotFoundError\u001b[0m                       Traceback (most recent call last)",
      "\u001b[0;32m<ipython-input-1-78992d241469>\u001b[0m in \u001b[0;36m<module>\u001b[0;34m\u001b[0m\n\u001b[0;32m----> 1\u001b[0;31m \u001b[0;32mimport\u001b[0m \u001b[0mbyxtal\u001b[0m\u001b[0;34m\u001b[0m\u001b[0;34m\u001b[0m\u001b[0m\n\u001b[0m\u001b[1;32m      2\u001b[0m \u001b[0;32mimport\u001b[0m \u001b[0mnumpy\u001b[0m \u001b[0;32mas\u001b[0m \u001b[0mnp\u001b[0m\u001b[0;34m\u001b[0m\u001b[0;34m\u001b[0m\u001b[0m\n\u001b[1;32m      3\u001b[0m \u001b[0;32mimport\u001b[0m \u001b[0mos\u001b[0m\u001b[0;34m\u001b[0m\u001b[0;34m\u001b[0m\u001b[0m\n\u001b[1;32m      4\u001b[0m \u001b[0;32mimport\u001b[0m \u001b[0minspect\u001b[0m\u001b[0;34m\u001b[0m\u001b[0;34m\u001b[0m\u001b[0m\n\u001b[1;32m      5\u001b[0m \u001b[0;32mimport\u001b[0m \u001b[0mpickle\u001b[0m\u001b[0;34m\u001b[0m\u001b[0;34m\u001b[0m\u001b[0m\n",
      "\u001b[0;31mModuleNotFoundError\u001b[0m: No module named 'byxtal'"
     ]
    }
   ],
   "source": [
    "import byxtal\n",
    "import numpy as np\n",
    "import os\n",
    "import inspect\n",
    "import pickle"
   ]
  },
  {
   "cell_type": "markdown",
   "metadata": {},
   "source": [
    "## 3.1. Finding the Σ-rotations"
   ]
  },
  {
   "cell_type": "markdown",
   "metadata": {},
   "source": [
    "While Σ-rotations are widely known and used in crystallography they are not trivial to build. Therefore we have computed a wide range of Σ-rotations and have included them inside the byxtal package in a separate folder named pkl_files. If you have installed the byxtal package using the pip install byxtal command or if you have cloned the GBpy github repository on Github you have received the pkl_files folder. To access the pkl_files folder, you need to know where the byxtal package resides on your system. The following steps will help you navigate through the byxtal package folder structure. If you already have the rotation matrix (3x3 matrix) associated with the Σ-rotation igonre the following steps."
   ]
  },
  {
   "cell_type": "code",
   "execution_count": 2,
   "metadata": {},
   "outputs": [
    {
     "ename": "NameError",
     "evalue": "name 'os' is not defined",
     "output_type": "error",
     "traceback": [
      "\u001b[0;31m---------------------------------------------------------------------------\u001b[0m",
      "\u001b[0;31mNameError\u001b[0m                                 Traceback (most recent call last)",
      "\u001b[0;32m<ipython-input-2-22f7c6a7fcc7>\u001b[0m in \u001b[0;36m<module>\u001b[0;34m\u001b[0m\n\u001b[0;32m----> 1\u001b[0;31m \u001b[0mgbpy_dir\u001b[0m \u001b[0;34m=\u001b[0m \u001b[0mos\u001b[0m\u001b[0;34m.\u001b[0m\u001b[0mpath\u001b[0m\u001b[0;34m.\u001b[0m\u001b[0mdirname\u001b[0m\u001b[0;34m(\u001b[0m\u001b[0;34m(\u001b[0m\u001b[0minspect\u001b[0m\u001b[0;34m.\u001b[0m\u001b[0mgetfile\u001b[0m\u001b[0;34m(\u001b[0m\u001b[0mGBpy\u001b[0m\u001b[0;34m)\u001b[0m\u001b[0;34m)\u001b[0m\u001b[0;34m)\u001b[0m\u001b[0;34m\u001b[0m\u001b[0;34m\u001b[0m\u001b[0m\n\u001b[0m\u001b[1;32m      2\u001b[0m \u001b[0mprint\u001b[0m\u001b[0;34m(\u001b[0m\u001b[0mgbpy_dir\u001b[0m\u001b[0;34m)\u001b[0m\u001b[0;34m\u001b[0m\u001b[0;34m\u001b[0m\u001b[0m\n",
      "\u001b[0;31mNameError\u001b[0m: name 'os' is not defined"
     ]
    }
   ],
   "source": [
    "gbpy_dir = os.path.dirname((inspect.getfile(GBpy)))\n",
    "print(gbpy_dir)"
   ]
  },
  {
   "cell_type": "markdown",
   "metadata": {},
   "source": [
    "The variable gbpy_dir is a string contaning the path to where GBpy resides on your system. pkl_files is a subfolder of the gbpy_dir. You can get the list of the files that are included in the pkl_files folder using the following command:"
   ]
  },
  {
   "cell_type": "code",
   "execution_count": 3,
   "metadata": {},
   "outputs": [
    {
     "ename": "NameError",
     "evalue": "name 'gbpy_dir' is not defined",
     "output_type": "error",
     "traceback": [
      "\u001b[0;31m---------------------------------------------------------------------------\u001b[0m",
      "\u001b[0;31mNameError\u001b[0m                                 Traceback (most recent call last)",
      "\u001b[0;32m<ipython-input-3-704917acd6ed>\u001b[0m in \u001b[0;36m<module>\u001b[0;34m\u001b[0m\n\u001b[0;32m----> 1\u001b[0;31m \u001b[0mpkl_dir\u001b[0m \u001b[0;34m=\u001b[0m \u001b[0mgbpy_dir\u001b[0m \u001b[0;34m+\u001b[0m \u001b[0;34m'/pkl_files'\u001b[0m\u001b[0;34m\u001b[0m\u001b[0;34m\u001b[0m\u001b[0m\n\u001b[0m",
      "\u001b[0;31mNameError\u001b[0m: name 'gbpy_dir' is not defined"
     ]
    }
   ],
   "source": [
    "pkl_dir = gbpy_dir + '/pkl_files'"
   ]
  },
  {
   "cell_type": "markdown",
   "metadata": {},
   "source": [
    "os.listdir(pkl_dir)"
   ]
  },
  {
   "cell_type": "markdown",
   "metadata": {},
   "source": [
    "The common Σ-rotations of cubic lattices are saved in a file named \"cF_Id_csl_common_rotations.pkl\". You can find Σ-rotations of other lattices in the same folder similarly (i.e. hexagnal(hP), tetragonal(tP), etc.), however in this tutorial the focus is on face-centered cubic (f.c.c) lattice. To access the contents of \"cF_Id_csl_common_rotations.pkl\" use the following commands:"
   ]
  },
  {
   "cell_type": "code",
   "execution_count": 5,
   "metadata": {},
   "outputs": [
    {
     "ename": "NameError",
     "evalue": "name 'pkl_dir' is not defined",
     "output_type": "error",
     "traceback": [
      "\u001b[0;31m---------------------------------------------------------------------------\u001b[0m",
      "\u001b[0;31mNameError\u001b[0m                                 Traceback (most recent call last)",
      "\u001b[0;32m<ipython-input-5-944eef0fb6d3>\u001b[0m in \u001b[0;36m<module>\u001b[0;34m\u001b[0m\n\u001b[0;32m----> 1\u001b[0;31m \u001b[0mpkl_file\u001b[0m \u001b[0;34m=\u001b[0m \u001b[0mpkl_dir\u001b[0m \u001b[0;34m+\u001b[0m \u001b[0;34m'/cF_Id_csl_common_rotations.pkl'\u001b[0m\u001b[0;34m\u001b[0m\u001b[0;34m\u001b[0m\u001b[0m\n\u001b[0m\u001b[1;32m      2\u001b[0m \u001b[0mpkl_content\u001b[0m \u001b[0;34m=\u001b[0m \u001b[0mpickle\u001b[0m\u001b[0;34m.\u001b[0m\u001b[0mload\u001b[0m\u001b[0;34m(\u001b[0m\u001b[0mopen\u001b[0m\u001b[0;34m(\u001b[0m\u001b[0mpkl_file\u001b[0m\u001b[0;34m)\u001b[0m\u001b[0;34m)\u001b[0m\u001b[0;34m\u001b[0m\u001b[0;34m\u001b[0m\u001b[0m\n",
      "\u001b[0;31mNameError\u001b[0m: name 'pkl_dir' is not defined"
     ]
    }
   ],
   "source": [
    "pkl_file = pkl_dir + '/cF_Id_csl_common_rotations.pkl'\n",
    "pkl_content = pickle.load(open(pkl_file))"
   ]
  },
  {
   "cell_type": "markdown",
   "metadata": {},
   "source": [
    "The variable \"pkl_content\" contains first 200 common Σ-rotations of cubic lattices, stored as a dictionary data structure. Each entry in the dictionary can be access by specifying the __key__ to that entry. The key for each sigma rotation is a __string__ with the Σ-number. We would like to emphasize that the key to each entry has to be a string. For instance for Σ\n",
    "\n",
    "3 you need to pass '3' to the pkl_content as the key.\n",
    "\n",
    "It is very important to note that all the rotation matrices are expressed in __primitive bases__ of the associated lattices. To use the rotation matrices in an orthogonal basis one needs to perform similarity transformation on the provided rotation matrices. We will demonstrate an example of such transformation later in this tutorial. Luckily for cubic lattices the Σ\n",
    "\n",
    "-rotations remain constant in both primitive and orthogonal bases.\n",
    "\n",
    "To avoid the truncation error we have stored the Numerator (saved as 'N') and the Denominator (saved as 'D') of each Σ\n",
    "-rotation separately. To construct the rotation matrix associated with each Σ-rotation you need to divide the elements of __N__ by elements of __D__. The result will be a 3x3 rotation matrix which will be a numpy array. The following steps shows how you can construct the rotation matrix associated with the Σ3 rotation:"
   ]
  },
  {
   "cell_type": "code",
   "execution_count": 7,
   "metadata": {},
   "outputs": [
    {
     "ename": "NameError",
     "evalue": "name 'pkl_content' is not defined",
     "output_type": "error",
     "traceback": [
      "\u001b[0;31m---------------------------------------------------------------------------\u001b[0m",
      "\u001b[0;31mNameError\u001b[0m                                 Traceback (most recent call last)",
      "\u001b[0;32m<ipython-input-7-ffc2027a7208>\u001b[0m in \u001b[0;36m<module>\u001b[0;34m\u001b[0m\n\u001b[0;32m----> 1\u001b[0;31m \u001b[0mpkl_content\u001b[0m\u001b[0;34m[\u001b[0m\u001b[0;34m'3'\u001b[0m\u001b[0;34m]\u001b[0m\u001b[0;34m\u001b[0m\u001b[0;34m\u001b[0m\u001b[0m\n\u001b[0m\u001b[1;32m      2\u001b[0m \u001b[0;34m\u001b[0m\u001b[0m\n",
      "\u001b[0;31mNameError\u001b[0m: name 'pkl_content' is not defined"
     ]
    }
   ],
   "source": [
    "pkl_content['3']"
   ]
  },
  {
   "cell_type": "code",
   "execution_count": 8,
   "metadata": {},
   "outputs": [
    {
     "ename": "NameError",
     "evalue": "name 'pkl_content' is not defined",
     "output_type": "error",
     "traceback": [
      "\u001b[0;31m---------------------------------------------------------------------------\u001b[0m",
      "\u001b[0;31mNameError\u001b[0m                                 Traceback (most recent call last)",
      "\u001b[0;32m<ipython-input-8-c9421b84aeda>\u001b[0m in \u001b[0;36m<module>\u001b[0;34m\u001b[0m\n\u001b[0;32m----> 1\u001b[0;31m \u001b[0mN3\u001b[0m \u001b[0;34m=\u001b[0m \u001b[0mpkl_content\u001b[0m\u001b[0;34m[\u001b[0m\u001b[0;34m'3'\u001b[0m\u001b[0;34m]\u001b[0m\u001b[0;34m[\u001b[0m\u001b[0;34m'N'\u001b[0m\u001b[0;34m]\u001b[0m\u001b[0;34m[\u001b[0m\u001b[0;36m0\u001b[0m\u001b[0;34m]\u001b[0m\u001b[0;34m\u001b[0m\u001b[0;34m\u001b[0m\u001b[0m\n\u001b[0m\u001b[1;32m      2\u001b[0m \u001b[0mD3\u001b[0m \u001b[0;34m=\u001b[0m \u001b[0mpkl_content\u001b[0m\u001b[0;34m[\u001b[0m\u001b[0;34m'3'\u001b[0m\u001b[0;34m]\u001b[0m\u001b[0;34m[\u001b[0m\u001b[0;34m'D'\u001b[0m\u001b[0;34m]\u001b[0m\u001b[0;34m[\u001b[0m\u001b[0;36m0\u001b[0m\u001b[0;34m]\u001b[0m\u001b[0;34m\u001b[0m\u001b[0;34m\u001b[0m\u001b[0m\n\u001b[1;32m      3\u001b[0m \u001b[0mSigma3\u001b[0m \u001b[0;34m=\u001b[0m \u001b[0mN3\u001b[0m\u001b[0;34m/\u001b[0m\u001b[0mD3\u001b[0m\u001b[0;34m\u001b[0m\u001b[0;34m\u001b[0m\u001b[0m\n\u001b[1;32m      4\u001b[0m \u001b[0mprint\u001b[0m\u001b[0;34m(\u001b[0m\u001b[0mSigma3\u001b[0m\u001b[0;34m)\u001b[0m\u001b[0;34m\u001b[0m\u001b[0;34m\u001b[0m\u001b[0m\n",
      "\u001b[0;31mNameError\u001b[0m: name 'pkl_content' is not defined"
     ]
    }
   ],
   "source": [
    "N3 = pkl_content['3']['N'][0]\n",
    "D3 = pkl_content['3']['D'][0]\n",
    "Sigma3 = N3/D3\n",
    "print(Sigma3)"
   ]
  },
  {
   "cell_type": "markdown",
   "metadata": {},
   "source": [
    "Note that some of the Sigmas have more than one Sigma rotation. For instance Σ17 has two Σ-rotations often referred to as Σ17-a and Σ17-b. In such cases you will find two N matrices and two D matrices associated with each rotation. Use the following to access each N and D matrix."
   ]
  },
  {
   "cell_type": "code",
   "execution_count": 9,
   "metadata": {},
   "outputs": [
    {
     "ename": "NameError",
     "evalue": "name 'pkl_content' is not defined",
     "output_type": "error",
     "traceback": [
      "\u001b[0;31m---------------------------------------------------------------------------\u001b[0m",
      "\u001b[0;31mNameError\u001b[0m                                 Traceback (most recent call last)",
      "\u001b[0;32m<ipython-input-9-e14e77aa8ecb>\u001b[0m in \u001b[0;36m<module>\u001b[0;34m\u001b[0m\n\u001b[0;32m----> 1\u001b[0;31m \u001b[0mpkl_content\u001b[0m\u001b[0;34m[\u001b[0m\u001b[0;34m'17'\u001b[0m\u001b[0;34m]\u001b[0m\u001b[0;34m\u001b[0m\u001b[0;34m\u001b[0m\u001b[0m\n\u001b[0m",
      "\u001b[0;31mNameError\u001b[0m: name 'pkl_content' is not defined"
     ]
    }
   ],
   "source": [
    "pkl_content['17']"
   ]
  },
  {
   "cell_type": "code",
   "execution_count": 10,
   "metadata": {},
   "outputs": [
    {
     "ename": "SyntaxError",
     "evalue": "Missing parentheses in call to 'print'. Did you mean print('Sigma17_a =', Sigma17_a, '\\n')? (<ipython-input-10-18cbe0736c7d>, line 4)",
     "output_type": "error",
     "traceback": [
      "\u001b[0;36m  File \u001b[0;32m\"<ipython-input-10-18cbe0736c7d>\"\u001b[0;36m, line \u001b[0;32m4\u001b[0m\n\u001b[0;31m    print 'Sigma17_a =', Sigma17_a, '\\n'\u001b[0m\n\u001b[0m                      ^\u001b[0m\n\u001b[0;31mSyntaxError\u001b[0m\u001b[0;31m:\u001b[0m Missing parentheses in call to 'print'. Did you mean print('Sigma17_a =', Sigma17_a, '\\n')?\n"
     ]
    }
   ],
   "source": [
    "N17_a = pkl_content['17']['N'][0]\n",
    "D17_a = pkl_content['17']['D'][0]\n",
    "Sigma17_a = N17_a/D17_a\n",
    "print 'Sigma17_a =', Sigma17_a, '\\n'\n",
    "\n",
    "N17_b = pkl_content['17']['N'][1]\n",
    "D17_b = pkl_content['17']['D'][1]\n",
    "Sigma17_b = N17_b/D17_b\n",
    "print 'Sigma17_b =', Sigma17_b,"
   ]
  },
  {
   "cell_type": "markdown",
   "metadata": {},
   "source": [
    "## 3.2. Changing the Basis of a Transformation Matrix"
   ]
  },
  {
   "cell_type": "markdown",
   "metadata": {},
   "source": [
    "So far we have been able to obtain the rotation matrix associated with the Σ3 rotation which is stored in the variable __Sigma3__. As mentioned in __section 1.1__, it is very important to recognize that the obtained rotation matrices are expressed in primitive basis of the lattice. To use the rotation matrices in an orthogonal basis one needs to perform similarity transformation on the provided rotation matrices.\n",
    "\n",
    "By convention we use the __p__ for primitive basis and __po__ for orthogonal basis of a lattice.\n",
    "\n",
    "If we define the transformation matrix of the Σ\n",
    "3 (that transforms crystal p1 to p2) in the primitive basis as Tpp1→p2, same transformation in orthogonal basis of the lattice (e.g. supercell lattice) will be defined as Tpop1→p2\n",
    "\n",
    "and can be found using the similarity transformation as:\n",
    "\n",
    "$\\mathcal{T^{po}_{p1→p2}=Λ^{po}_{p} × T^{p}_{p1→p2} × Λ^{p}_{po}}$\n",
    "\n",
    "where $\\mathcal{Λ^{po}_{p}}$ is a 3x3 matrix which defines the components of the basis of the primitve lattice in an orthogonal reference frame attached to the same lattice. Therefore, Λpop is a constant for each lattice. Λpop for various lattices can be obtained from the lattice class in byxtal. For example, the components of a primitive f.c.c. lattice with lattice parameter a=1.0Å, $\\mathcal{Λ^{po}_{p}}$, is defined as:"
   ]
  },
  {
   "cell_type": "code",
   "execution_count": null,
   "metadata": {},
   "outputs": [],
   "source": [
    "L_p_po = 1.0*np.array([[0.,0.5,0.5],[0.5,0.,0.5],[0.5,0.5,0.]])\n",
    "L_p_po"
   ]
  },
  {
   "cell_type": "markdown",
   "metadata": {},
   "source": [
    "and $\\mathcal{Λ^{po}_{p}}$ is the inverse of $\\mathcal{Λ^{p}_{po}}$:"
   ]
  },
  {
   "cell_type": "code",
   "execution_count": null,
   "metadata": {},
   "outputs": [],
   "source": [
    "L_po_p = np.linalg.inv(L_p_po)\n",
    "L_po_p"
   ]
  },
  {
   "cell_type": "markdown",
   "metadata": {},
   "source": [
    "Therefore using similarity transformation, $\\mathcal{T^{po}_{p1→p2}}$ can be obtained as:"
   ]
  },
  {
   "cell_type": "code",
   "execution_count": null,
   "metadata": {},
   "outputs": [],
   "source": [
    "T_p1top2_po = np.dot(L_p_po, np.dot(Sigma3, L_po_p)).reshape(1,3,3)[0]\n",
    "T_p1top2_po"
   ]
  },
  {
   "cell_type": "markdown",
   "metadata": {},
   "source": [
    "As mentioned in section 1.1. it can be observed that $\\mathcal{T^{po}_{p1→p2}}$ and $\\mathcal{T^{p}_{p1→p2}}$ are the same for cubic lattices."
   ]
  },
  {
   "cell_type": "markdown",
   "metadata": {},
   "source": [
    "## 3.3. Finding the CSL and DSC Lattices of a Σ3 rotation:"
   ]
  },
  {
   "cell_type": "markdown",
   "metadata": {},
   "source": [
    "To compute the CSL and DSC lattices, __byxtal__ only requires the  $\\mathcal{T^{p}_{p1→p2}}$ that can be directly accessed from the provided pkl files. It automatically performs the similarity transformation using the $\\mathcal{Λ^{po}_{p}}$ that can be obtained from the lattice class.\n",
    "\n",
    "We have stored the $\\mathcal{Λ^{po}_{p}}$ in __L_p_po__ and $\\mathcal{T^{p}_{p1→p2}}$ in __Sigma3__ that are shown in the following:"
   ]
  },
  {
   "cell_type": "code",
   "execution_count": 11,
   "metadata": {},
   "outputs": [
    {
     "ename": "NameError",
     "evalue": "name 'L_p_po' is not defined",
     "output_type": "error",
     "traceback": [
      "\u001b[0;31m---------------------------------------------------------------------------\u001b[0m",
      "\u001b[0;31mNameError\u001b[0m                                 Traceback (most recent call last)",
      "\u001b[0;32m<ipython-input-11-7564b81074a0>\u001b[0m in \u001b[0;36m<module>\u001b[0;34m\u001b[0m\n\u001b[0;32m----> 1\u001b[0;31m \u001b[0mL_p_po\u001b[0m\u001b[0;34m\u001b[0m\u001b[0;34m\u001b[0m\u001b[0m\n\u001b[0m",
      "\u001b[0;31mNameError\u001b[0m: name 'L_p_po' is not defined"
     ]
    }
   ],
   "source": [
    "L_p_po"
   ]
  },
  {
   "cell_type": "code",
   "execution_count": null,
   "metadata": {},
   "outputs": [],
   "source": [
    "Sigma3"
   ]
  },
  {
   "cell_type": "markdown",
   "metadata": {},
   "source": [
    "To find the CSL and DSC lattices the user should use the function __find_csl_dsc__. This function is available in a file with the same name. To use this function first you must import byxtal as a package or directly import the function from the file.\n",
    "\n",
    "__find_csl_dsc__ needs two inputs and provides the CSL and DSC lattices in primitive basis. The syntax is as follows:\n",
    "\n",
    "$\\mathcal{Λ^{p1}_{CSL}, Λ^{p1}_{DSC}}$ = __find_csl_dsc__ ($\\mathcal{Λ^{po}_p, T^p_{p1→p2}})$\n",
    "\n",
    "\n",
    "Follow the steps below to obtain the CSL and DSC lattices using __byxtal__:\n",
    "\n",
    "First import the appropriate module from __byxtal__. Next call the __find_csl_dsc__ function with the following syntax:"
   ]
  },
  {
   "cell_type": "code",
   "execution_count": null,
   "metadata": {},
   "outputs": [],
   "source": [
    "import GBpy.find_csl_dsc as gb_csl\n",
    "L_csl_p1, L_dsc_p1 = gb_csl.find_csl_dsc(L_p_po, Sigma3)"
   ]
  },
  {
   "cell_type": "markdown",
   "metadata": {},
   "source": [
    "where $\\mathcal{Λ^{p1}_{CSL}}$ is obtained as:"
   ]
  },
  {
   "cell_type": "code",
   "execution_count": null,
   "metadata": {},
   "outputs": [],
   "source": [
    "print(L_csl_p1)"
   ]
  },
  {
   "cell_type": "markdown",
   "metadata": {},
   "source": [
    "and $\\mathcal{Λ^{p1}_{DSC}}$ is obtained as:"
   ]
  },
  {
   "cell_type": "code",
   "execution_count": null,
   "metadata": {},
   "outputs": [],
   "source": [
    "print(L_dsc_p1)"
   ]
  },
  {
   "cell_type": "markdown",
   "metadata": {},
   "source": [
    "To find the $\\mathcal{Λ^{po1}_{CSL}}$ and $\\mathcal{Λ^{po1}_{DSC}}$ , one must change the reference frame to the orthogonal basis as follows:\n",
    "\n",
    "$\\mathcal{Λ^{po1}_{CSL}}$= $\\mathcal{Λ^{po}_{p}}$ × $\\mathcal{Λ^{po1}_{DSC}}$\n",
    "\n",
    "Hence we can obtain the $\\mathcal{Λ^{po1}_{CSL}}$ as:"
   ]
  },
  {
   "cell_type": "code",
   "execution_count": null,
   "metadata": {},
   "outputs": [],
   "source": [
    "L_csl_po1 = np.dot(L_p_po, L_csl_p1)\n",
    "print(L_csl_po1)"
   ]
  },
  {
   "cell_type": "markdown",
   "metadata": {},
   "source": [
    "Also we have:\n",
    "\n",
    "$\\mathcal{Λ^{po1}_{DSC}}$ = $\\mathcal{Λ^{po}_{p}}$ × $\\mathcal{Λ^{p1}_{DSC}}$\n",
    "\n",
    "Therefore we can obtain the $\\mathcal{Λ^{po1}_{DSC}}$ as:"
   ]
  },
  {
   "cell_type": "code",
   "execution_count": null,
   "metadata": {},
   "outputs": [],
   "source": [
    "L_dsc_po1 = np.dot(L_p_po, L_dsc_p1)\n",
    "print L_dsc_po1"
   ]
  },
  {
   "cell_type": "markdown",
   "metadata": {},
   "source": [
    "The $\\mathcal{Λ^{po1}_{CSL}}$ provides a basis for the __coincidence sites__ of a bicrystal that have a misorientation of the specified Σ (e.g. Σ3 in this case). Note that the basis obtained $\\mathcal{Λ^{po1}_{CSL}}$ is in reduced form (using lll-reduction algorithm) and therefore the length of the basis vectors are as close as possible. Each column of the Λpo1CSL\n",
    "\n",
    "contains one of the basis vectors of the CSL lattice. These basis vectors of CSL the lattice are of paramount importance in simulation of interfaces and are used to construct a periodic simulation cell.\n",
    "\n",
    "The $\\mathcal{Λ^{po1}_{DSC}}$ provides a basis for the __displacement shift lattice__ of a bicrystal that have a misorientation of the specified Σ (e.g. Σ3 in this case). The basis vectors of a DSC lattice provide unique displacement intervals in space in which the coincidence pattern of the bicrystal remains preserved. In other words any displacement in one of the bicrystals along the DSC basis vectors and with a magnitude of integer multiples of the norm of the DSC basis vectors, preserves the CSL pattern. This property of the DSC lattice is of great importance in energy minimization of interfaces."
   ]
  }
 ],
 "metadata": {
  "kernelspec": {
   "display_name": "Python 3",
   "language": "python",
   "name": "python3"
  },
  "language_info": {
   "codemirror_mode": {
    "name": "ipython",
    "version": 3
   },
   "file_extension": ".py",
   "mimetype": "text/x-python",
   "name": "python",
   "nbconvert_exporter": "python",
   "pygments_lexer": "ipython3",
   "version": "3.6.9"
  }
 },
 "nbformat": 4,
 "nbformat_minor": 4
}
