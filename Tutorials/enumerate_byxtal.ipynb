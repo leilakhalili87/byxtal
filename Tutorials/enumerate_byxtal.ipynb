{
 "cells": [
  {
   "cell_type": "markdown",
   "metadata": {},
   "source": [
    "# Computing the bicrystallographic aspects of Misorientations (FCC lattice)"
   ]
  },
  {
   "cell_type": "code",
   "execution_count": 1,
   "metadata": {},
   "outputs": [],
   "source": [
    "import byxtal.lattice as gbl;\n",
    "import byxtal.csl_utility_functions as cuf;\n",
    "import byxtal.find_csl_dsc as fcd;\n",
    "import numpy as np;\n",
    "import byxtal.tools as bxt;\n",
    "import byxtal.misorient_fz as mfz;\n",
    "import byxtal.disorient_symm_props as dsp;\n",
    "from sympy.matrices import Matrix, eye, zeros;"
   ]
  },
  {
   "cell_type": "markdown",
   "metadata": {},
   "source": [
    "Define the lattice: Here we use the `lattice` module and use the default option. The default option will initialize a cubic lattice with $a = 1$."
   ]
  },
  {
   "cell_type": "code",
   "execution_count": 2,
   "metadata": {},
   "outputs": [],
   "source": [
    "l1 = gbl.Lattice()\n",
    "sig_type = 'common'\n",
    "l_p_po = Matrix(l1.l_p_po)"
   ]
  },
  {
   "cell_type": "markdown",
   "metadata": {},
   "source": [
    "First, initialize the $\\Sigma$ number of interest. Note that for cubic crystals, CSL rotations exist only for odd-values of $\\Sigma$."
   ]
  },
  {
   "cell_type": "code",
   "execution_count": 3,
   "metadata": {},
   "outputs": [],
   "source": [
    "sig_num = 39"
   ]
  },
  {
   "cell_type": "markdown",
   "metadata": {},
   "source": [
    "The function `csl_rotations` in the module `byxtal.csl_utility_functions`, will compute the $\\Sigma$ rotation (a misorientation) in the reference frame of the primitive cell."
   ]
  },
  {
   "cell_type": "code",
   "execution_count": 4,
   "metadata": {},
   "outputs": [
    {
     "name": "stdout",
     "output_type": "stream",
     "text": [
      "{'N': array([[[ 21., -24.,  12.],\n",
      "        [ 31.,  37.,   1.],\n",
      "        [-14.,  16.,  31.]],\n",
      "\n",
      "       [[ 35., -10.,  14.],\n",
      "        [ 14.,  35., -10.],\n",
      "        [-10.,  14.,  35.]]]), 'D': array([[[39., 39., 39.],\n",
      "        [39., 39., 39.],\n",
      "        [39., 39., 39.]],\n",
      "\n",
      "       [[39., 39., 39.],\n",
      "        [39., 39., 39.],\n",
      "        [39., 39., 39.]]])}\n"
     ]
    }
   ],
   "source": [
    "s1 = cuf.csl_rotations(sig_num, sig_type, l1);\n",
    "print(s1)"
   ]
  },
  {
   "cell_type": "markdown",
   "metadata": {},
   "source": [
    "As can be obsrved from the output above, there exist multiple rotations that correspond to a given $\\Sigma$ number. This is usually the case when $\\Sigma$ is large. In the following, we will compute the bycrystallography properties for one of the misorientations (e.g. corresponding to the second rotation in the array). The bycrystallography properties of interest are as follows:\n",
    "+ The Coincidence Site Lattice (CSL). For more details, refer to this [tutorial](https://www.tf.uni-kiel.de/matwis/amat/def_en/kap_7/backbone/r7_1_2.html).\n",
    "+ The DSC lattice that defines the **D**isplacements that are **S**ymmetry **C**onserving (also referred to as the **D**isplacement **S**hift **C**omplete). For more details, refer to this [tutorial](https://www.tf.uni-kiel.de/matwis/amat/def_en/kap_7/backbone/r7_1_3.html)\n",
    "+ The boundary-plane symmetry group, and the symmetry axes. For more details refer to the following article:\n",
    "    - [**Symmetries in the representation of grain boundary-plane distributions**](https://www.tandfonline.com/doi/full/10.1080/14786435.2012.722700?casa_token=4nDY3LLK9vQAAAAA%3AgECePf6JCdOPx6K_7cfxrJATdUAwMOSe3-F5NIdpjuI26uAPQfkkSTa61np1AWoDGQ3wcJrh3SS9). Patala, S., & Schuh, C. A. (2013). . Philosophical Magazine, 93(5), 524-573."
   ]
  },
  {
   "cell_type": "code",
   "execution_count": 5,
   "metadata": {},
   "outputs": [
    {
     "name": "stdout",
     "output_type": "stream",
     "text": [
      "39_2\n"
     ]
    }
   ],
   "source": [
    "ct1 = 2\n",
    "sig_id = str(sig_num)+'_'+str(ct1)\n",
    "print(sig_id)"
   ]
  },
  {
   "cell_type": "markdown",
   "metadata": {},
   "source": [
    "The $\\Sigma$-misorientation is a rotation operation that is defined in the $P$ lattice reference frame and is computed as shown in the code snippet below. We use the variable `T_p1top2_p1` denote the **T**ransformation (`T`) from the $P1$ lattice to the $P2$ lattice (`p1top2`) expressed in the $P1$ reference frame (`p1`)."
   ]
  },
  {
   "cell_type": "code",
   "execution_count": 6,
   "metadata": {},
   "outputs": [
    {
     "name": "stdout",
     "output_type": "stream",
     "text": [
      "[[ 0.8974359  -0.25641026  0.35897436]\n",
      " [ 0.35897436  0.8974359  -0.25641026]\n",
      " [-0.25641026  0.35897436  0.8974359 ]]\n"
     ]
    }
   ],
   "source": [
    "T_p1top2_p1 = s1['N'][ct1-1]/s1['D'][ct1-1]\n",
    "print(T_p1top2_p1)"
   ]
  },
  {
   "cell_type": "markdown",
   "metadata": {},
   "source": [
    "The **CSL** and the **DSC** lattice are determined using the `find_csl_dsc` function in the `byxtal.find_csl_dsc` module. The lattices are expressed using the basis vectors of the primitive cell $(P1)$. The following varibales are used:\n",
    "+ `l_csl_p`: The lattice (`l`) of the CSL (`csl`) expressed in the primitive reference frame (`p`).\n",
    "+ `l_dsc_p`: The lattice (`l`) of the DSC (`dsc`) expressed in the primitive reference frame (`p`)."
   ]
  },
  {
   "cell_type": "code",
   "execution_count": 8,
   "metadata": {},
   "outputs": [
    {
     "name": "stdout",
     "output_type": "stream",
     "text": [
      "l_csl_po is defined in the l_p1_po lattice\n",
      "l_csl_po is defined in the l_p2_po lattice\n",
      "V(csl_po)/V(p1_po) = Sigma =  39\n",
      "+++++++++++++++++++++++++++++++++++\n",
      "l_p1_po is defined in the l_dsc_po lattice\n",
      "l_dsc_po is defined in the l_dsc_po lattice\n",
      "l_csl_po is defined in the l_dsc_po lattice\n",
      "l_dsc_po*Sigma is an integer matrix\n",
      "V(p1_po)/V(dsc_po) = Sigma =  39\n",
      "[True, True]\n"
     ]
    }
   ],
   "source": [
    "l_csl_p, l_dsc_p = fcd.find_csl_dsc(l_p_po, T_p1top2_p1, 1e-6)"
   ]
  },
  {
   "cell_type": "markdown",
   "metadata": {},
   "source": [
    "Now, we will determine the boundary-plane symmetry group (and the axes) for the $\\Sigma$ misorientation. The following steps are followed:\n",
    "+ First, we need to cnvert the rotation in the $P$ reference frame (`T_p1top2_p1`) to $PO$ reference frame (`T_p1top2_po1`).\n",
    "+ The misorientation is converted to a quaternion using the `mat2quat` function in the `byxtal.tools` module.\n",
    "+ The disorientation is obtained using the `misorient_fz` function in the `byxtal.misorient_fz` module.\n",
    "+ The bicrystallography symmetry properties are computed using `disorient_symm_props` function in the `byxtal.disorient_symm_props` module. The outputs are stored in the following variables:\n",
    "    - `bp_symm_grp`: The point group symmetry corresponding to the given misorientation.\n",
    "    - `symm_grp_ax`: The axes of the symmetry point group are stored in a $3 \\times 3$ matrix. The columns correspond to the $\\hat{e}_x$, $\\hat{e}_y$, $\\hat{e}_z$ axes of the symmetry point group."
   ]
  },
  {
   "cell_type": "code",
   "execution_count": 9,
   "metadata": {},
   "outputs": [
    {
     "name": "stdout",
     "output_type": "stream",
     "text": [
      "D3d\n",
      "[[ 0.79259392  0.19611614  0.57735027]\n",
      " [-0.56613852  0.58834841  0.57735027]\n",
      " [-0.22645541 -0.78446454  0.57735027]]\n"
     ]
    }
   ],
   "source": [
    "l_p_po = l1.l_p_po\n",
    "l_po_p = np.linalg.inv(l_p_po)\n",
    "T_p1top2_po1 = np.dot(l_p_po, np.dot(T_p1top2_p1, l_po_p))\n",
    "quat1 = bxt.mat2quat(T_p1top2_po1)\n",
    "dis_quat1 = mfz.misorient_fz(quat1, l1.cryst_ptgrp)\n",
    "x_g, y_g, z_g, bp_symm_grp = dsp.disorient_symm_props(dis_quat1, l1.cryst_ptgrp)\n",
    "symm_grp_ax = (np.vstack((x_g, y_g, z_g))).transpose()\n",
    "print(bp_symm_grp)\n",
    "print(symm_grp_ax)"
   ]
  },
  {
   "cell_type": "markdown",
   "metadata": {},
   "source": [
    "One could compute the bycrystallography properties of a large number of $\\Sigma$ rotation by using the code snippets discussed above and putting all of them together in a for-loop. This is shown in the code below."
   ]
  },
  {
   "cell_type": "code",
   "execution_count": null,
   "metadata": {},
   "outputs": [],
   "source": [
    "n1 = 1; n2 = 200; sig_nums = 2*np.arange(n1,n2)+1;\n",
    "\n",
    "num_sigs = 0;\n",
    "sig_mats = {};\n",
    "csl_mats = {};\n",
    "dsc_mats = {};\n",
    "csl_bp_props = {};\n",
    "\n",
    "for sig_num in sig_nums:\n",
    "    s1 = cuf.csl_rotations(sig_num, sig_type, l1);\n",
    "    for ct1 in range(np.shape(s1['N'])[0]):\n",
    "        bp_symm_grp_props = {};\n",
    "        sig_id = str(sig_num)+'_'+str(ct1+1);\n",
    "        print(sig_id)\n",
    "        #### Store the sigma-misorientation (in 'p' reference frame)\n",
    "        T_p1top2_p1 = s1['N'][ct1]/s1['D'][ct1];\n",
    "        sig_mats[sig_id] = T_p1top2_p1;\n",
    "\n",
    "        l_csl_p, l_dsc_p = fcd.find_csl_dsc(l_p_po, T_p1top2_p1, 1e-6)\n",
    "        csl_mats[sig_id] = l_csl_p; dsc_mats[sig_id] = l_dsc_p;\n",
    "\n",
    "        #### Generate boundary-planpe orientations\n",
    "        l_p_po = l1.l_p_po; l_po_p = np.linalg.inv(l_p_po);\n",
    "        T_p1top2_po1 = np.dot(l_p_po, np.dot(T_p1top2_p1, l_po_p));\n",
    "\n",
    "        ## Find the corresponding disorientation\n",
    "        quat1 = bxt.mat2quat(T_p1top2_po1); print(quat1);\n",
    "        dis_quat1 = mfz.misorient_fz(quat1, l1.cryst_ptgrp); print(dis_quat1);\n",
    "        x_g, y_g, z_g, bp_symm_grp = dsp.disorient_symm_props(dis_quat1, l1.cryst_ptgrp)\n",
    "        symm_grp_ax = (np.vstack((x_g, y_g, z_g))).transpose();\n",
    "        bp_symm_grp_props['symm_grp_ax'] = symm_grp_ax;\n",
    "        bp_symm_grp_props['bp_symm_grp'] = bp_symm_grp;\n",
    "        csl_bp_props[sig_id] = bp_symm_grp_props;\n",
    "\n",
    "import pickle as pkl;\n",
    "pkl_name = 'cF_Id_csl_common_rotations.pkl';\n",
    "csl_props = {};\n",
    "csl_props['sig_mats'] = sig_mats;\n",
    "csl_props['csl_mats'] = csl_mats;\n",
    "csl_props['dsc_mats'] = dsc_mats;\n",
    "csl_props['csl_bp_props'] = csl_bp_props;\n",
    "\n",
    "jar = open(pkl_name, 'wb');\n",
    "pkl.dump(csl_props, jar);\n",
    "jar.close()"
   ]
  }
 ],
 "metadata": {
  "kernelspec": {
   "display_name": "byxtal",
   "language": "python",
   "name": "byxtal"
  },
  "language_info": {
   "codemirror_mode": {
    "name": "ipython",
    "version": 3
   },
   "file_extension": ".py",
   "mimetype": "text/x-python",
   "name": "python",
   "nbconvert_exporter": "python",
   "pygments_lexer": "ipython3",
   "version": "3.7.3"
  }
 },
 "nbformat": 4,
 "nbformat_minor": 4
}
